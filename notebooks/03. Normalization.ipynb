{
 "cells": [
  {
   "cell_type": "markdown",
   "id": "f964f10f",
   "metadata": {},
   "source": [
    "# Playground for Normalization Layer"
   ]
  },
  {
   "cell_type": "markdown",
   "id": "8deb2765",
   "metadata": {},
   "source": [
    "## Prototype Normalization Layer\n",
    "* Normalizes activation levels to mean 0 and variance 1\n",
    "    * shifts activation values by mean\n",
    "    * divides activation levels by sqrt(variance)\n",
    "* Contains additional learnable parameters to shift mean from 0 if necessary\n",
    "* Contains additional learnable parameters to scale variance away from 1 if necessary"
   ]
  },
  {
   "cell_type": "code",
   "execution_count": 1,
   "id": "92f40a6f",
   "metadata": {},
   "outputs": [],
   "source": [
    "import torch\n",
    "import torch.nn as nn\n",
    "\n",
    "torch.manual_seed(42)\n",
    "\n",
    "class LayerNorm(nn.Module):\n",
    "\n",
    "    def __init__(self, embed_dim, verbose=False):\n",
    "        super().__init__()\n",
    "        \n",
    "        self.eps = 1e-5         # prevents division by 0\n",
    "        self.shift = nn.Parameter(torch.zeros(embed_dim))\n",
    "        self.scale = nn.Parameter(torch.ones(embed_dim))\n",
    "        \n",
    "        if verbose:\n",
    "            print(f\"\\n=== LayerNorm Initialization ===\")\n",
    "            print(f\"    embed_dim =\", embed_dim)\n",
    "            print(f\"    Generating self.shift = nn.Parameter(torch.zeros({embed_dim}))\")\n",
    "            print(f\"    Generating self.scale = nn.Parameter(torch.ones({embed_dim}))\")        \n",
    "            print(f\"=== End Initialization ===\\n\")\n",
    "\n",
    "    def forward(self, x, verbose=False):\n",
    "        in_mean = x.mean(dim=-1, keepdim=True)\n",
    "        in_variance = x.var(dim=-1, keepdim=True, unbiased=False)\n",
    "        norm_x = (x-in_mean) / torch.sqrt(in_variance + self.eps)\n",
    "        norm_mean = norm_x.mean(dim=-1, keepdim=True)\n",
    "        norm_var = norm_x.var(dim=-1, keepdim=True, unbiased=False)\n",
    "\n",
    "        if verbose:\n",
    "            print(f\"\\n=== LayerNorm Forward Pass ===\")\n",
    "            print(f'    Input: ', x)\n",
    "            print(f'    Input_Mean: ', in_mean)\n",
    "            print(f'    Input_Variance: ', in_variance)\n",
    "            print(f'    Normalized (norm_x): ', norm_x)\n",
    "            print(f'    Norm_Mean: ', norm_mean)\n",
    "            print(f'    Norm_Variance: ', norm_var)\n",
    "            print(f'    Output = self.scale * norm_x + self.shift')\n",
    "            print(f\"=== End Forward Pass ===\\n\")\n",
    "\n",
    "        return self.scale * norm_x + self.shift"
   ]
  },
  {
   "cell_type": "code",
   "execution_count": 1,
   "id": "c75995a9",
   "metadata": {},
   "outputs": [],
   "source": [
    "def test_normalization(verbose = False):\n",
    "\n",
    "    embbed_dim = 6\n",
    "    print(f'Embbed_dim: ', embbed_dim)\n",
    "\n",
    "    batch_example = torch.randn(2, 4)   # Batch size 2 and context = 4\n",
    "    layer = nn.Sequential(nn.Linear(4, embbed_dim), nn.ReLU())\n",
    "    out = layer(batch_example)\n",
    "    \n",
    "    print(f'Output\\n:', out)\n",
    "\n",
    "    mean = out.mean(dim=-1, keepdim=True)\n",
    "    var = out.var(dim=-1, keepdim=True)\n",
    "\n",
    "    print(\"Mean:\\n\", mean)\n",
    "    print(\"Variance:\\n\", var)\n",
    "\n",
    "    norm = LayerNorm(embbed_dim, verbose=verbose)\n",
    "    normalized_output = norm(out, verbose=verbose)\n",
    "\n",
    "\n",
    "# _test_run = test_normalization(True)\n",
    "\n",
    "\n"
   ]
  }
 ],
 "metadata": {
  "kernelspec": {
   "display_name": "scratch",
   "language": "python",
   "name": "python3"
  },
  "language_info": {
   "codemirror_mode": {
    "name": "ipython",
    "version": 3
   },
   "file_extension": ".py",
   "mimetype": "text/x-python",
   "name": "python",
   "nbconvert_exporter": "python",
   "pygments_lexer": "ipython3",
   "version": "3.12.9"
  }
 },
 "nbformat": 4,
 "nbformat_minor": 5
}
