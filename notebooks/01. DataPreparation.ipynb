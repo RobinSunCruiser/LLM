{
 "cells": [
  {
   "cell_type": "markdown",
   "id": "f964f10f",
   "metadata": {},
   "source": [
    "# Playground for\n",
    "* Dataset\n",
    "* Dataloader\n",
    "\n",
    "\n",
    "## Dataset\n",
    "  Reprocesses the entire dataset into training pairs, and `__getitem__` override for `dataset[ ]` just retrieves them by index.\n",
    "\n",
    "  Process:\n",
    "  1. Tokenize text → convert to token IDs\n",
    "  2. Sliding window → extract sequences of context_length + 1\n",
    "  3. Split each sequence → input `[i:context_length]` and target `[i+1:context_length+1]` (shifted by 1)\n",
    "  4. Store as pairs → `self.input_ids[i]` and `self.target_ids[i]` as a training pair\n",
    "  5. Jumps `stride` width\n",
    "\n",
    "  Example:\n",
    "  sequence = [1, 2, 3, 4, 5, 6, 7, 8, 9]  # context_length 3, stride 5 \n",
    "\n",
    "  # Split into:\n",
    "  input_ids  = [1, 2, 3]   # predict next token at each position\n",
    "  target_ids = [2, 3, 4]   # what should be predicted\n",
    "  Jump \n",
    "  input_ids  = [6, 7, 8]   # predict next token at each position\n",
    "  target_ids = [7, 8, 9]   # what should be predicted\n",
    "  \n",
    "\n",
    "  Training pairs at same index:\n",
    "  - input_ids[0] → predict → target_ids[0]\n",
    "  - input_ids[1] → predict → target_ids[1]\n",
    "  - etc.\n",
    "\n",
    "  This preprocessing in __init__ makes __getitem__ very fast since it just returns pre-computed pairs.\n",
    "  The model learns to predict the next token at each position in the sequence."
   ]
  },
  {
   "cell_type": "code",
   "execution_count": 122,
   "id": "b87417d2",
   "metadata": {},
   "outputs": [],
   "source": [
    "import tiktoken # converts token into IDs and back. Tiktoken is a library openai we use sheme \"gpt2\"\n",
    "import torch\n",
    "import torch.nn as nn \n",
    "from torch.utils.data import Dataset, DataLoader\n",
    "\n",
    "torch.manual_seed(42)\n",
    "\n",
    "class GPTDataset(Dataset):\n",
    "\n",
    "    def __init__(self, txt, tokenizer, context_length, stride):\n",
    "        self.input_ids = []\n",
    "        self.target_ids = []\n",
    "\n",
    "        # Tokenize txt\n",
    "        token_ids = tokenizer.encode( txt, allowed_special={'<|endoftext|>'})\n",
    "\n",
    "        # Walks throught IDs and prepaires training sets for every index of input_ids and target_ids\n",
    "        # Stride determines the jump wide for one loop\n",
    "        for i in range(0, len(token_ids) - context_length, stride):\n",
    "            input_chunk = token_ids[i:i+context_length]\n",
    "            target_chunk = token_ids[i+1:i+context_length+1]\n",
    "            self.input_ids.append(torch.tensor(input_chunk))\n",
    "            self.target_ids.append(torch.tensor(target_chunk))\n",
    "\n",
    "    def __len__(self):\n",
    "        return len(self.input_ids)\n",
    "    \n",
    "    def __getitem__(self, idx):\n",
    "        return self.input_ids[idx], self.target_ids[idx]\n"
   ]
  },
  {
   "cell_type": "markdown",
   "id": "395ffd25",
   "metadata": {},
   "source": [
    "## Dataloader\n",
    "Wrapper function for initialization and data loader creation\n",
    "* initializes tokenizer with model name (gpt2)\n",
    "* creates GPTDataset with text\n",
    "* sums up batches (size 4)"
   ]
  },
  {
   "cell_type": "code",
   "execution_count": null,
   "id": "cad535e1",
   "metadata": {},
   "outputs": [],
   "source": [
    "def create_dataloader(txt, tokenizer_model_name=\"gpt2\", batch_size=4, context_length=768, stride=128, shuffle=True):\n",
    "\n",
    "    # Initialize tokenizer\n",
    "    tokenizer = tiktoken.get_encoding(tokenizer_model_name)\n",
    "\n",
    "    # Create dataset\n",
    "    dataset = GPTDataset(txt, tokenizer, context_length, stride)\n",
    "\n",
    "    # Create dataloader\n",
    "    dataloader = DataLoader(dataset, batch_size=batch_size, shuffle=shuffle)\n",
    "\n",
    "    return dataloader"
   ]
  },
  {
   "cell_type": "markdown",
   "id": "fc9cfa36",
   "metadata": {},
   "source": [
    "## Token Embeddings\n",
    "Returns input_embeddings from token_ids sequences (demonstration implementation)\n",
    "* GPT2 uses a vocabulary size of 50252 different token-ids\n",
    "* Every ID has a stored embedding vector of length 756\n",
    "* Creates embedding layers for vocabulary and embedding dimensions (50252 x 756)\n",
    "* Positional encoding from embedding layer with context_length and embedding dimension (4 x 756)"
   ]
  },
  {
   "cell_type": "code",
   "execution_count": null,
   "id": "bbcff6a2",
   "metadata": {},
   "outputs": [],
   "source": [
    "class Embedder(nn.Module):\n",
    "\n",
    "    def __init__(self, vocab_size, context_length, embedding_dim, verbose=False):\n",
    "        super().__init__()\n",
    "        \n",
    "        self.positions = torch.arange(context_length) # tensor([0, 1, 2, 3]) for con_len 4 \n",
    "        self.token_embedding_layer = nn.Embedding(vocab_size, embedding_dim)\n",
    "        self.pos_embedding_layer = nn.Embedding(context_length, embedding_dim)\n",
    "        \n",
    "        if verbose: \n",
    "            print(f\"\\n=== Embedder Initialization ===\")\n",
    "            print(f'    Generating token_embeddings ({vocab_size} x {embedding_dim})')\n",
    "            print(f'    Generating pos_embeddings ({context_length} x {embedding_dim})')       \n",
    "            print(f\"=== End Initialization ===\\n\")\n",
    "            \n",
    "    def forward(self, x, verbose=False):\n",
    "\n",
    "        con_len = x.shape[-1]\n",
    "\n",
    "        embeddings = self.token_embedding_layer(x)\n",
    "        pos_embeddings = self.pos_embedding_layer(self.positions[:con_len])\n",
    "        input_embeddings = embeddings + pos_embeddings\n",
    "        \n",
    "        if verbose: \n",
    "            print(f\"\\n=== Embedder Forward Pass ===\")\n",
    "            print(f'\\nembeddings[0] for x ({con_len} x {embeddings.shape[-1]}):\\n', embeddings[0])\n",
    "            print(f'\\npos_embeddings[0] ({con_len} x {pos_embeddings.shape[-1]}):\\n', pos_embeddings)\n",
    "            print(\"\\ninput_embeddings[0] = embeddings[0] + pos_embeddings[0]:\\n\", input_embeddings[0])\n",
    "            print(\"\\nShape for input_embeddings: batch, context, embedding_dim \", input_embeddings.shape)\n",
    "            print(f\"=== End Forward Pass ===\\n\")\n",
    "            \n",
    "        return embeddings + pos_embeddings"
   ]
  },
  {
   "cell_type": "markdown",
   "id": "2a129179",
   "metadata": {},
   "source": [
    "## Generates test run with test data"
   ]
  },
  {
   "cell_type": "code",
   "execution_count": 1,
   "id": "345df833",
   "metadata": {},
   "outputs": [],
   "source": [
    "def get_test_input_embedding(vocab_size=50252, embedding_dim=768, batch_size=8, context_length=4, stride=4, verbose=False):\n",
    "\n",
    "    with open(\"00. Robins Small Text Sample.txt\", \"r\", encoding=\"utf-8\") as file:\n",
    "        raw_text = file.read()\n",
    "\n",
    "    dataloader = create_dataloader( raw_text, \"gpt2\", batch_size, context_length, stride)\n",
    "    embedder = Embedder(vocab_size, context_length, embedding_dim, verbose=verbose)\n",
    "    tokenizer = tiktoken.get_encoding(\"gpt2\")   # for debuggin outputs\n",
    "\n",
    "    batch = next(iter(dataloader))  # accessing a batch from dataloader\n",
    "    x, y = batch\n",
    "\n",
    "    if verbose:\n",
    "        print(\"Displaying first row of batch\")\n",
    "        print(\"\\nFirst batch elements Input x:\\n\", x[0], tokenizer.decode(x[0].tolist()))\n",
    "        print(\"\\nFirst batch elements Target y:\\n\", y[0], tokenizer.decode(y[0].tolist()))\n",
    "\n",
    "    input_embeddings = embedder(x, verbose=verbose)\n",
    "    return input_embeddings\n",
    "\n",
    "# _test_run = get_test_input_embedding(verbose = True)"
   ]
  },
  {
   "cell_type": "code",
   "execution_count": null,
   "id": "35c7f76c",
   "metadata": {},
   "outputs": [],
   "source": []
  }
 ],
 "metadata": {
  "kernelspec": {
   "display_name": "scratch",
   "language": "python",
   "name": "python3"
  },
  "language_info": {
   "codemirror_mode": {
    "name": "ipython",
    "version": 3
   },
   "file_extension": ".py",
   "mimetype": "text/x-python",
   "name": "python",
   "nbconvert_exporter": "python",
   "pygments_lexer": "ipython3",
   "version": "3.12.9"
  }
 },
 "nbformat": 4,
 "nbformat_minor": 5
}
