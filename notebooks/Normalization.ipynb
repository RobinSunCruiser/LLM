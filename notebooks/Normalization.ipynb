{
 "cells": [
  {
   "cell_type": "markdown",
   "id": "f964f10f",
   "metadata": {},
   "source": [
    "# Playground for Normalization Layer"
   ]
  },
  {
   "cell_type": "markdown",
   "id": "8deb2765",
   "metadata": {},
   "source": [
    "## Prototype Normalization Layer\n",
    "* Normalizes activation levels to mean 0 and variance 1\n",
    "    * shifts activation values by mean\n",
    "    * divides activation levels by sqrt(variance)\n",
    "* Contains additional learnable parameters to shift mean from 0 if necessary\n",
    "* Contains additional learnable parameters to scale variance away from 1 if necessary"
   ]
  },
  {
   "cell_type": "code",
   "execution_count": null,
   "id": "92f40a6f",
   "metadata": {},
   "outputs": [],
   "source": [
    "import torch\n",
    "import torch.nn as nn\n",
    "\n",
    "class LayerNorm(nn.Module):\n",
    "\n",
    "    def __init__(self, embed_dim, verbose=False):\n",
    "        super().__init__()\n",
    "        \n",
    "        self.eps = 1e-5         # prevents division by 0\n",
    "        self.shift = nn.Parameter(torch.zeros(embed_dim))\n",
    "        self.scale = nn.Parameter(torch.ones(embed_dim))\n",
    "        self.verbose = verbose\n",
    "\n",
    "    def forward(self, x):\n",
    "        mean = x.mean(dim=-1, keepdim=True)\n",
    "        variance = x.var(dim=-1, keepdim=True, unbiased=False)\n",
    "        norm_x = (x-mean) / torch.sqrt(variance + self.eps)\n",
    "\n",
    "        if self.verbose:\n",
    "            print(f'Normalizing (results without learned parameters) ...')\n",
    "            print(f'    Input: ', x)\n",
    "            print(f'    Mean: ', mean)\n",
    "            print(f'    Variance: ', variance)\n",
    "            print(f'    Normalized: ', norm_x)\n",
    "\n",
    "        return self.scale * norm_x + self.shift"
   ]
  },
  {
   "cell_type": "code",
   "execution_count": null,
   "id": "c75995a9",
   "metadata": {},
   "outputs": [],
   "source": []
  }
 ],
 "metadata": {
  "kernelspec": {
   "display_name": "scratch",
   "language": "python",
   "name": "python3"
  },
  "language_info": {
   "codemirror_mode": {
    "name": "ipython",
    "version": 3
   },
   "file_extension": ".py",
   "mimetype": "text/x-python",
   "name": "python",
   "nbconvert_exporter": "python",
   "pygments_lexer": "ipython3",
   "version": "3.12.9"
  }
 },
 "nbformat": 4,
 "nbformat_minor": 5
}
