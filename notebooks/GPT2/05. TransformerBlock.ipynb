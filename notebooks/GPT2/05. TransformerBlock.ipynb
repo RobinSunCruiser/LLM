{
 "cells": [
  {
   "cell_type": "markdown",
   "id": "f964f10f",
   "metadata": {},
   "source": [
    "# Playground for TransformerBlock"
   ]
  },
  {
   "cell_type": "markdown",
   "id": "8deb2765",
   "metadata": {},
   "source": [
    "## Central Component of GPT Model"
   ]
  },
  {
   "cell_type": "code",
   "execution_count": 102,
   "id": "225ec960",
   "metadata": {},
   "outputs": [],
   "source": [
    "import torch\n",
    "import torch.nn as nn\n",
    "\n",
    "torch.manual_seed(42)\n",
    "\n",
    "\n",
    "# Look into these for details\n",
    "%run \"02. MultiHeadAttention.ipynb\"\n",
    "%run \"03. Normalization.ipynb\"\n",
    "%run \"04. FeedForward.ipynb\"\n",
    "\n",
    "MultiHeadAttention = MultiHeadAttention\n",
    "LayerNorm = LayerNorm\n",
    "FeedForward = FeedForward"
   ]
  },
  {
   "cell_type": "code",
   "execution_count": null,
   "id": "6a3953f9",
   "metadata": {},
   "outputs": [],
   "source": [
    "class TransformerBlock(nn.Module):\n",
    "\n",
    "    def __init__(self, cfg, verbose=False):\n",
    "        super().__init__()\n",
    "\n",
    "        if verbose: print(f\"\\n=== Transformer Initialization ===\")\n",
    "        \n",
    "        self.embbed_dim = cfg[\"emb_dim\"]\n",
    "        self.context_length = cfg[\"context_length\"]\n",
    "        self.num_heads = cfg[\"n_heads\"]\n",
    "        self.dropout_rate = cfg[\"drop_rate\"]\n",
    "        self.qkv_bias = cfg[\"qkv_bias\"]\n",
    "\n",
    "        self.att = MultiHeadAttention(\n",
    "            input_dim = self.embbed_dim,\n",
    "            output_dim = self.embbed_dim,\n",
    "            context_length = self.context_length,\n",
    "            dropout = self.dropout_rate,\n",
    "            num_heads = self.num_heads,\n",
    "            qkv_bias = self.qkv_bias,\n",
    "            verbose = verbose\n",
    "        )\n",
    "\n",
    "        self.ffn = FeedForward(self.embbed_dim, verbose=verbose)\n",
    "        self.norm1 = LayerNorm(self.embbed_dim, verbose=verbose)\n",
    "        self.norm2 = LayerNorm(self.embbed_dim, verbose=verbose)\n",
    "        self.dropout = nn.Dropout(self.dropout_rate)\n",
    "        \n",
    "        if verbose:\n",
    "            print(\"Dropout rate: \", self.dropout_rate) \n",
    "            print(f\"\\n=== End Transformer Initialization ===\")\n",
    "        \n",
    "\n",
    "    def forward(self, x, verbose = False):\n",
    "\n",
    "        # local variables for input shape\n",
    "        batch_size, context_length, input_dim = x.shape\n",
    "\n",
    "        if verbose:\n",
    "            print(f\"\\n=== TransformerBlock Forward Pass ===\")\n",
    "            print(f\"Input shape: {x.shape} (batch_size={batch_size}, context_length={context_length}, input_dim={input_dim})\")\n",
    "            print(f\"Config: num_heads={self.num_heads}, embbed_dim={self.embbed_dim}\")\n",
    "            print(f\"\\nInput tensor (=shortcut) (batch 0 with shape {x[0].shape}):\")\n",
    "            print(f\"States for first batch ...\\n {x[0]}\")\n",
    "            \n",
    "        shortcut = x\n",
    "        \n",
    "        x = self.norm1(x)\n",
    "        if verbose: print(f\"\\n1. Normalization 1:\\n {x[0]}\")\n",
    " \n",
    "        x = self.att(x, verbose = verbose)\n",
    "        if verbose: print(f\"\\n2. Attention:\\n {x[0]}\")\n",
    " \n",
    "        x = self.dropout(x)\n",
    "        if verbose: print(f\"\\n3. Dropout:\\n {x[0]}\")\n",
    "        \n",
    "        x = x + shortcut\n",
    "        shortcut = x\n",
    "        if verbose: print(f\"\\n4. Output + Shortcut (= new Shortcut):\\n {x[0]}\")\n",
    " \n",
    "        x = self.norm2(x)\n",
    "        if verbose: print(f\"\\n5. Normalization 2:\\n {x[0]}\")\n",
    "        \n",
    "        x = self.ffn(x, verbose = verbose)\n",
    "        if verbose: print(f\"\\n6. FeedForward:\\n {x[0]}\")\n",
    "        \n",
    "        x = self.dropout(x)\n",
    "        if verbose: print(f\"\\n7. Dropout:\\n {x[0]}\")\n",
    "        \n",
    "        x = x + shortcut\n",
    "        if verbose: \n",
    "            print(f\"\\n8. Output + new Shortcut:\\n {x[0]}\")\n",
    "            print(f\"\\n===END TransformerBlock Forward Pass ===\\n\")\n",
    "        \n",
    "        return x    \n"
   ]
  },
  {
   "cell_type": "markdown",
   "id": "377056e1",
   "metadata": {},
   "source": [
    "## Test Run"
   ]
  },
  {
   "cell_type": "code",
   "execution_count": 104,
   "id": "46ade3cd",
   "metadata": {},
   "outputs": [],
   "source": [
    "def use_transformer_block(verbose = False):\n",
    "\n",
    "    GPT_CONFIG_124M = {\n",
    "        \"vocab_size\": 50257,     # Vocabulary size\n",
    "        \"context_length\": 1024,  # Context length\n",
    "        \"emb_dim\": 768,          # Embedding dimension\n",
    "        \"n_heads\": 12,           # Number of attention heads\n",
    "        \"n_layers\": 12,          # Number of layers\n",
    "        \"drop_rate\": 0.1,        # Dropout rate\n",
    "        \"qkv_bias\": False        # Query-Key-Value bias\n",
    "    }\n",
    "\n",
    "    %run \"01. DataPreparation.ipynb\"\n",
    "    input = get_test_input_embedding(verbose=verbose)\n",
    "\n",
    "    block = TransformerBlock(cfg = GPT_CONFIG_124M, verbose=verbose)\n",
    "    y = block(input, verbose=True)\n",
    "    \n",
    "    if verbose:\n",
    "        print(\"Output shape: \", y.shape)\n",
    "\n",
    "# _test_run = use_transformer_block(True)"
   ]
  }
 ],
 "metadata": {
  "kernelspec": {
   "display_name": "scratch",
   "language": "python",
   "name": "python3"
  },
  "language_info": {
   "codemirror_mode": {
    "name": "ipython",
    "version": 3
   },
   "file_extension": ".py",
   "mimetype": "text/x-python",
   "name": "python",
   "nbconvert_exporter": "python",
   "pygments_lexer": "ipython3",
   "version": "3.12.9"
  }
 },
 "nbformat": 4,
 "nbformat_minor": 5
}
