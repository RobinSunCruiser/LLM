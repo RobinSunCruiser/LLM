{
 "cells": [
  {
   "cell_type": "markdown",
   "id": "f964f10f",
   "metadata": {},
   "source": [
    "# Playground for FeedForward Layer"
   ]
  },
  {
   "cell_type": "markdown",
   "id": "8deb2765",
   "metadata": {},
   "source": [
    "## GELU Activation\n",
    "* Use Gaussian Error Linear Unit (GeLU) instead of ReLU\n",
    "    * More Smooth than ReLU für better performance"
   ]
  },
  {
   "cell_type": "code",
   "execution_count": 22,
   "id": "225ec960",
   "metadata": {},
   "outputs": [],
   "source": [
    "import torch\n",
    "import torch.nn as nn\n",
    "\n",
    "torch.manual_seed(42)\n",
    "\n",
    "class GELU(nn.Module):\n",
    "\n",
    "    def __init__(self):\n",
    "        super().__init__()\n",
    "\n",
    "    def forward(self, x):\n",
    "        return 0.5 * x * (1 + torch.tanh(\n",
    "            torch.sqrt(torch.tensor(2.0 / torch.pi)) *\n",
    "            (x + 0.044715 * torch.pow(x,3))\n",
    "        ))\n"
   ]
  },
  {
   "cell_type": "code",
   "execution_count": 23,
   "id": "f18676e6",
   "metadata": {},
   "outputs": [],
   "source": [
    "import matplotlib.pyplot as plt\n",
    "\n",
    "def plot_GELU_and_RELU():\n",
    "\n",
    "    x = torch.linspace(-3, 3, 100) # sample data\n",
    "\n",
    "    gelu = GELU()\n",
    "    relu = nn.ReLU()\n",
    "\n",
    "    y_gelu = gelu(x)\n",
    "    y_relu = relu(x)\n",
    "\n",
    "    plt.figure(figsize=(8, 3))\n",
    "    for i, (y, label) in enumerate(zip([y_gelu, y_relu], [\"GELU\", \"ReLU\"]), 1):\n",
    "        plt.subplot(1, 2, i)\n",
    "        plt.plot(x, y)\n",
    "        plt.title(f\"{label} activation function\")\n",
    "        plt.xlabel(\"x\")\n",
    "        plt.ylabel(f\"{label}(x)\")\n",
    "        plt.grid(True)\n",
    "\n",
    "    plt.tight_layout()\n",
    "    plt.show()\n",
    "\n",
    "# _test_plot = plot_GELU_and_RELU()"
   ]
  },
  {
   "cell_type": "markdown",
   "id": "1ebb54bf",
   "metadata": {},
   "source": [
    "## FeedForward Layer"
   ]
  },
  {
   "cell_type": "code",
   "execution_count": 24,
   "id": "56fa754c",
   "metadata": {},
   "outputs": [],
   "source": [
    "class FeedForward(nn.Module):\n",
    "\n",
    "    def __init__(self, emb_dim, verbose=False):\n",
    "        super().__init__()\n",
    "        \n",
    "        hidden_dim = 4 * emb_dim # some common convention\n",
    "\n",
    "        self.layers = nn.Sequential(\n",
    "            nn.Linear(emb_dim, hidden_dim),\n",
    "            GELU(),\n",
    "            nn.Linear(hidden_dim, emb_dim),\n",
    "        )\n",
    "\n",
    "        if verbose:\n",
    "            print(f\"\\n=== FeedForward Initialization ===\")\n",
    "            print(f\"    Input and output dimensions = \", emb_dim)\n",
    "            print(f\"    Hidden dimension = \",hidden_dim)        \n",
    "            print(f\"=== End FeedForward Initialization ===\\n\")\n",
    "\n",
    "    def forward(self, x, verbose=False):\n",
    "        return self.layers(x)"
   ]
  },
  {
   "cell_type": "markdown",
   "id": "1c1fa054",
   "metadata": {},
   "source": [
    "## Test Run"
   ]
  },
  {
   "cell_type": "code",
   "execution_count": 25,
   "id": "c75995a9",
   "metadata": {},
   "outputs": [],
   "source": [
    "def test_feedForward(verbose = False):\n",
    "\n",
    "    embbed_dim = 6\n",
    "    print(f'Embbed_dim: ', embbed_dim)\n",
    "\n",
    "    ffn = FeedForward(embbed_dim, verbose=verbose)\n",
    "\n",
    "    x = torch.rand(2, 3, embbed_dim) # 2 batches, 3 context_length, embed_dim\n",
    "    print(\"Sample data: \", x)\n",
    "\n",
    "    out = ffn(x, verbose=verbose)\n",
    "\n",
    "    print(\"\\nOutput shape \", out.shape)\n",
    "    print(\"Output data \", out )\n",
    "\n",
    "\n",
    "# _test_run = test_feedForward(True)"
   ]
  },
  {
   "cell_type": "code",
   "execution_count": null,
   "id": "fb66b4f4",
   "metadata": {},
   "outputs": [],
   "source": []
  }
 ],
 "metadata": {
  "kernelspec": {
   "display_name": "scratch",
   "language": "python",
   "name": "python3"
  },
  "language_info": {
   "codemirror_mode": {
    "name": "ipython",
    "version": 3
   },
   "file_extension": ".py",
   "mimetype": "text/x-python",
   "name": "python",
   "nbconvert_exporter": "python",
   "pygments_lexer": "ipython3",
   "version": "3.12.9"
  }
 },
 "nbformat": 4,
 "nbformat_minor": 5
}
